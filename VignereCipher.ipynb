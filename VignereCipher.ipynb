{
 "cells": [
  {
   "cell_type": "code",
   "execution_count": null,
   "metadata": {},
   "outputs": [],
   "source": []
  },
  {
   "cell_type": "code",
   "execution_count": null,
   "metadata": {},
   "outputs": [],
   "source": []
  },
  {
   "cell_type": "code",
   "execution_count": null,
   "metadata": {},
   "outputs": [],
   "source": [
    "class VignereCipher:\n",
    "    plaintextSpace = \"ABCDEFGHIJKLMNOPQRSTUVWXYZ\"\n",
    "    \n",
    "    def __init__(self, secretKey):\n",
    "        self.key = secretKey\n",
    "        \n",
    "    def __repr(self):\n",
    "        print \"Secret Key:\", self.key\n",
    "    \n",
    "    def shiftLetters(self, shift, letter, right=True):\n",
    "        shift = ord(shift) - ord('A')\n",
    "        shift = shift if right else -shift\n",
    "        shifted = self.plaintextSpace[(self.plaintextSpace.index(letter) + shift) % 26]\n",
    "        return shifted\n",
    "\n",
    "    def encryptMessage(self, message):\n",
    "        return ''.join([self.shiftLetters(self.key[key_idx % length], letter)\n",
    "                        for key_idx, letter in enumerate(message.upper())])\n",
    "    \n",
    "    def decryptMessage(self, message):\n",
    "        return ''.join([self.shiftLetters(self.key[key_idx % length], letter, False)\n",
    "                    for key_idx, letter in enumerate(message.upper())])   \n",
    "\n",
    "        "
   ]
  },
  {
   "cell_type": "code",
   "execution_count": null,
   "metadata": {},
   "outputs": [],
   "source": [
    "test1 = VignereCipher(\"CRYPTO\")\n",
    "test1.decryptMessage(test1.encryptMessage(\"thisisamessage\"))"
   ]
  },
  {
   "cell_type": "code",
   "execution_count": null,
   "metadata": {},
   "outputs": [],
   "source": [
    "LETTER_FREQUENCY = [\n",
    "    ['a',8.167], ['b',1.492], ['c',2.782], ['d',4.253], ['e',12.70], ['f',2.228], ['g',2.015],\n",
    "    ['h',6.094], ['i',6.966], ['j',0.153], ['k',0.772], ['l',4.025], ['m',2.406], ['n',6.749],\n",
    "    ['o',7.507], ['p',1.929], ['q',0.095], ['r',5.987], ['s',6.327], ['t',9.056], ['u',2.758],\n",
    "    ['v',0.978], ['w',2.360], ['x',0.150], ['y',1.974], ['z',0.074]\n",
    "]\n"
   ]
  },
  {
   "cell_type": "code",
   "execution_count": null,
   "metadata": {},
   "outputs": [],
   "source": [
    "from collections import Counter\n",
    "\n",
    "class CrackVignere:\n",
    "    letterFrequency = LETTER_FREQUENCY\n",
    "    \n",
    "    def __init__(self, message):\n",
    "        self.ciphertext = message\n",
    "        return \n",
    "\n",
    "    def lengthProbability(self, length):\n",
    "        \"\"\"\n",
    "        Note: Requires ciphertext be long enough to have a decent sample of letters\n",
    "        1. Divide ciphertext letters into l groups G0,G1,...,Gl-1\n",
    "            where ith ciphertext letter is placed in group Gi mod l\n",
    "        2. Calculate probability of letters in each group being same \n",
    "            as a typical English distribution\n",
    "        \"\"\"\n",
    "        \n",
    "        grouped = [self.ciphertext[i::length] for i in range(length)]\n",
    "        \n",
    "        # Possibly use Kolmogorov-Smirnov Test, though message size may be too small\n",
    "        \n",
    "        \n",
    "    def compareDistribution(self, sample_dist):\n",
    "        frequency = Counter(sample_dist)\n",
    "        total_count = sum(frequency.itervalues())\n",
    "        relative_frequency = {k: float(v) / total_count for k, v in frequency.iteritems()}\n",
    "        \n",
    "        print relative_frequency\n",
    "        \n",
    "    def guessKeyLength(self):\n",
    "        return [(length, lengthProbability(length) for length in range(len(ciphertext)))]\n",
    "        "
   ]
  },
  {
   "cell_type": "code",
   "execution_count": null,
   "metadata": {},
   "outputs": [],
   "source": [
    "capsletters = \"ABCDEFGHIJKLMNOPQRSTUVWXYZ\"\n",
    "dist1 = capsletters*30 + 50*\"A\" + 100*\"A\"\n",
    "cv1 = CrackVignere(\"a\")\n",
    "cv1.compareDistribution(dist1)"
   ]
  },
  {
   "cell_type": "code",
   "execution_count": null,
   "metadata": {},
   "outputs": [],
   "source": []
  }
 ],
 "metadata": {
  "kernelspec": {
   "display_name": "Python 2",
   "language": "python",
   "name": "python2"
  },
  "language_info": {
   "codemirror_mode": {
    "name": "ipython",
    "version": 2
   },
   "file_extension": ".py",
   "mimetype": "text/x-python",
   "name": "python",
   "nbconvert_exporter": "python",
   "pygments_lexer": "ipython2",
   "version": "2.7.12"
  }
 },
 "nbformat": 4,
 "nbformat_minor": 2
}

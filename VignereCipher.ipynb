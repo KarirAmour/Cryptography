{
 "cells": [
  {
   "cell_type": "code",
   "execution_count": null,
   "metadata": {},
   "outputs": [],
   "source": []
  },
  {
   "cell_type": "code",
   "execution_count": null,
   "metadata": {},
   "outputs": [],
   "source": []
  },
  {
   "cell_type": "code",
   "execution_count": 1,
   "metadata": {},
   "outputs": [],
   "source": [
    "class VignereCipher:\n",
    "    plaintextSpace = \"ABCDEFGHIJKLMNOPQRSTUVWXYZ\"\n",
    "    \n",
    "    def __init__(self, secretKey):\n",
    "        self.key = secretKey.upper()\n",
    "        self.length = len(secretKey)\n",
    "        \n",
    "    def __repr(self):\n",
    "        print \"Secret Key:\", self.key\n",
    "    \n",
    "    def shiftLetters(self, shift, letter, right=True):\n",
    "        shift = ord(shift) - ord('A')\n",
    "        shift = shift if right else -shift\n",
    "        shifted = self.plaintextSpace[(self.plaintextSpace.index(letter) + shift) % 26]\n",
    "        return shifted\n",
    "\n",
    "    def encryptMessage(self, message):\n",
    "        return ''.join([self.shiftLetters(self.key[key_idx % self.length], letter)\n",
    "                        for key_idx, letter in enumerate(message.upper())])\n",
    "    \n",
    "    def decryptMessage(self, message):\n",
    "        return ''.join([self.shiftLetters(self.key[key_idx % self.length], letter, False)\n",
    "                    for key_idx, letter in enumerate(message.upper())])   \n",
    "\n",
    "        "
   ]
  },
  {
   "cell_type": "code",
   "execution_count": 2,
   "metadata": {},
   "outputs": [
    {
     "data": {
      "text/plain": [
       "'THISISAMESSAGE'"
      ]
     },
     "execution_count": 2,
     "metadata": {},
     "output_type": "execute_result"
    }
   ],
   "source": [
    "test1 = VignereCipher(\"CRYPTO\")\n",
    "test1.decryptMessage(test1.encryptMessage(\"thisisamessage\"))"
   ]
  },
  {
   "cell_type": "code",
   "execution_count": 3,
   "metadata": {},
   "outputs": [],
   "source": [
    "LETTER_FREQ = [\n",
    "    ['a',8.167], ['b',1.492], ['c',2.782], ['d',4.253], ['e',12.70], ['f',2.228], ['g',2.015],\n",
    "    ['h',6.094], ['i',6.966], ['j',0.153], ['k',0.772], ['l',4.025], ['m',2.406], ['n',6.749],\n",
    "    ['o',7.507], ['p',1.929], ['q',0.095], ['r',5.987], ['s',6.327], ['t',9.056], ['u',2.758],\n",
    "    ['v',0.978], ['w',2.360], ['x',0.150], ['y',1.974], ['z',0.074]\n",
    "]\n",
    "LETTER_FREQUENCY = sorted(map(lambda x: (x[0].upper(), round(x[1], 4)), LETTER_FREQ))"
   ]
  },
  {
   "cell_type": "code",
   "execution_count": 23,
   "metadata": {},
   "outputs": [],
   "source": [
    "from collections import Counter\n",
    "\n",
    "class CrackVignere:\n",
    "    letterFrequency = LETTER_FREQUENCY\n",
    "    capsletters = \"ABCDEFGHIJKLMNOPQRSTUVWXYZ\"\n",
    "\n",
    "    def __init__(self, message):\n",
    "        self.ciphertext = message\n",
    "\n",
    "    def lengthProbability(self, length):\n",
    "        \"\"\"\n",
    "        Note: Requires ciphertext be long enough to have a decent sample of letters\n",
    "        1. Divide ciphertext letters into l groups G0,G1,...,Gl-1\n",
    "            where ith ciphertext letter is placed in group Gi mod l\n",
    "        2. Calculate probability of letters in each group being same \n",
    "            as a typical English distribution\n",
    "        \"\"\"\n",
    "        # Possibly use Kolmogorov-Smirnov Test, though message size may be too small\n",
    "\n",
    "        grouped = self.groupList(self.ciphertext, length)\n",
    "        freqs = [self.distributionError(self.letterFrequency, self.relativeFrequency(group))[1]\n",
    "                 for group in grouped]\n",
    "        return sum(freqs) / len(freqs)\n",
    "        \n",
    "        \n",
    "    def groupList(self, lst, size):\n",
    "        return [lst[i::size] for i in range(size)]\n",
    "        \n",
    "    def relativeFrequency(self, sample_dist):\n",
    "        frequency = Counter(sample_dist)\n",
    "        total_count = sum(frequency.itervalues())\n",
    "        rel_frequency = [(k, 100.0 * float(v) / total_count) for k,v in frequency.iteritems()]\n",
    "        return rel_frequency\n",
    "    \n",
    "    def distributionError(self, alst1, alst2):\n",
    "        a1 = sorted(alst1, key = lambda x: x[1])\n",
    "        a2 = sorted(alst2, key = lambda x: x[1])\n",
    "        dist = sum( (a1[i][1] - a2[i][1])**2 for i in range(len(a2)) )\n",
    "#         print len(a1), len(a2)\n",
    "        return [(a1[i][0], a2[i][0]) for i in range(len(a2))], dist \n",
    "        \n",
    "    def guessKeyLength(self):\n",
    "        return sorted([(round(self.lengthProbability(length), 3), length)\n",
    "                           for length in range(2,20)])\n",
    "        \n",
    "    def guessSecretKey(self):\n",
    "        top3lengths = self.guessKeyLength()[:3]\n",
    "        print \"Top 3 lengths:\", top3lengths\n",
    "        \n",
    "        toplength = top3lengths[0][1]\n",
    "        grouped = self.groupList(self.ciphertext, toplength)\n",
    "        groupedFreq = [self.relativeFrequency(group) for group in grouped]\n",
    "        \n",
    "        secretkey = ''\n",
    "        for idx, group in enumerate(groupedFreq):\n",
    "            mapper, error = self.distributionError(group, self.letterFrequency)\n",
    "            # print self.modeLetterDiff(mapper)\n",
    "            # print mapper, error, idx                                 \n",
    "            secretkey += self.capsletters[int((self.modeLetterDiff(mapper)))]\n",
    "        \n",
    "        return secretkey\n",
    "        \n",
    "    def modeLetterDiff(self, mapper):\n",
    "        # mid = len(mapper) / 2\n",
    "        differences = [(ord(pair[0]) - ord(pair[1])) % 26 for pair in mapper]\n",
    "        # return sorted([(ord(pair[0]) - ord(pair[1])) % 26 for pair in mapper])[mid]\n",
    "        return Counter(differences).most_common(1)[0][0]\n",
    "\n",
    "        "
   ]
  },
  {
   "cell_type": "code",
   "execution_count": 24,
   "metadata": {
    "scrolled": true
   },
   "outputs": [],
   "source": [
    "capsletters = \"ABCDEFGHIJKLMNOPQRSTUVWXYZ\"\n",
    "f = open('letters.txt', 'r')\n",
    "r = f.readlines()\n",
    "sample_msg = filter(lambda x: x in capsletters, ''.join(r).upper())\n",
    "vignere = VignereCipher(\"wankerdanker\")\n",
    "cipher = vignere.encryptMessage(sample_msg)\n",
    "f.close() "
   ]
  },
  {
   "cell_type": "code",
   "execution_count": 25,
   "metadata": {},
   "outputs": [
    {
     "data": {
      "text/plain": [
       "('LETTERSBYT', 'HEGDIIVBLD', 'LETTERSBYT')"
      ]
     },
     "execution_count": 25,
     "metadata": {},
     "output_type": "execute_result"
    }
   ],
   "source": [
    "sample_msg[:10], cipher[:10], vignere.decryptMessage(cipher[:10])"
   ]
  },
  {
   "cell_type": "code",
   "execution_count": 26,
   "metadata": {
    "scrolled": true
   },
   "outputs": [],
   "source": [
    "cracker = CrackVignere(cipher)"
   ]
  },
  {
   "cell_type": "code",
   "execution_count": 27,
   "metadata": {
    "scrolled": false
   },
   "outputs": [
    {
     "name": "stdout",
     "output_type": "stream",
     "text": [
      "Top 3 lengths: [(2.003, 12), (8.059, 6), (8.105, 18)]\n"
     ]
    },
    {
     "data": {
      "text/plain": [
       "'WANKERDANKER'"
      ]
     },
     "execution_count": 27,
     "metadata": {},
     "output_type": "execute_result"
    }
   ],
   "source": [
    "cracker.guessSecretKey()"
   ]
  },
  {
   "cell_type": "code",
   "execution_count": 28,
   "metadata": {},
   "outputs": [],
   "source": [
    "# Nicely done."
   ]
  },
  {
   "cell_type": "code",
   "execution_count": null,
   "metadata": {},
   "outputs": [],
   "source": []
  },
  {
   "cell_type": "code",
   "execution_count": null,
   "metadata": {},
   "outputs": [],
   "source": []
  },
  {
   "cell_type": "code",
   "execution_count": null,
   "metadata": {},
   "outputs": [],
   "source": []
  },
  {
   "cell_type": "code",
   "execution_count": null,
   "metadata": {},
   "outputs": [],
   "source": []
  },
  {
   "cell_type": "code",
   "execution_count": null,
   "metadata": {},
   "outputs": [],
   "source": []
  },
  {
   "cell_type": "code",
   "execution_count": null,
   "metadata": {},
   "outputs": [],
   "source": []
  },
  {
   "cell_type": "code",
   "execution_count": null,
   "metadata": {},
   "outputs": [],
   "source": []
  },
  {
   "cell_type": "code",
   "execution_count": null,
   "metadata": {},
   "outputs": [],
   "source": []
  },
  {
   "cell_type": "code",
   "execution_count": null,
   "metadata": {},
   "outputs": [],
   "source": []
  },
  {
   "cell_type": "code",
   "execution_count": null,
   "metadata": {},
   "outputs": [],
   "source": []
  },
  {
   "cell_type": "code",
   "execution_count": null,
   "metadata": {},
   "outputs": [],
   "source": []
  },
  {
   "cell_type": "code",
   "execution_count": null,
   "metadata": {},
   "outputs": [],
   "source": []
  },
  {
   "cell_type": "code",
   "execution_count": null,
   "metadata": {},
   "outputs": [],
   "source": []
  },
  {
   "cell_type": "markdown",
   "metadata": {},
   "source": [
    "#### Stuff that is Ruff"
   ]
  },
  {
   "cell_type": "code",
   "execution_count": null,
   "metadata": {},
   "outputs": [],
   "source": [
    "(ord('Z')  - ord('J')) % 26"
   ]
  },
  {
   "cell_type": "code",
   "execution_count": 11,
   "metadata": {},
   "outputs": [],
   "source": [
    "a = [('B', 'Z'), ('S', 'Q'), ('L', 'X'), ('Z', 'J'), ('M', 'K'), ('X', 'V'), ('D', 'B'), ('I', 'P'), ('Y', 'Y'), ('A', 'G'), ('R', 'F'), ('O', 'W'), ('H', 'M'), ('W', 'U'), ('E', 'C'), ('F', 'L'), ('N', 'D'), ('J', 'R'), ('T', 'H'), ('U', 'S'), ('P', 'N'), ('C', 'I'), ('K', 'O'), ('Q', 'A'), ('V', 'T'), ('G', 'E')]"
   ]
  },
  {
   "cell_type": "code",
   "execution_count": 12,
   "metadata": {},
   "outputs": [
    {
     "data": {
      "text/plain": [
       "[(2, 11)]"
      ]
     },
     "execution_count": 12,
     "metadata": {},
     "output_type": "execute_result"
    }
   ],
   "source": [
    "Counter([(ord(pair[0]) - ord(pair[1])) % 26 for pair in a]).most_common(1)"
   ]
  },
  {
   "cell_type": "code",
   "execution_count": null,
   "metadata": {},
   "outputs": [],
   "source": [
    "def relativeFrequency(sample_dist):\n",
    "    frequency = Counter(sample_dist)\n",
    "    total_count = sum(frequency.itervalues())\n",
    "    rel_frequency = [(k, 100.0 * float(v) / total_count) for k,v in frequency.iteritems()]\n",
    "    return rel_frequency\n",
    "\n",
    "def distributionError(alst1, alst2):\n",
    "    a1 = sorted(alst1, key = lambda x: x[1])\n",
    "    a2 = sorted(alst2, key = lambda x: x[1])\n",
    "    dist = sum( (a1[i][1] - a2[i][1])**2 for i in range(len(a2)) )\n",
    "#         print len(a1), len(a2)\n",
    "    return [(a1[i][0], a2[i][0]) for i in range(len(a2))], dist "
   ]
  },
  {
   "cell_type": "code",
   "execution_count": null,
   "metadata": {},
   "outputs": [],
   "source": []
  },
  {
   "cell_type": "code",
   "execution_count": null,
   "metadata": {},
   "outputs": [],
   "source": [
    "letterC = cipher[0::6]\n",
    "cShiftFreq = relativeFrequency(letterC)\n",
    "mapper, error = distributionError(LETTER_FREQUENCY, cShiftFreq)"
   ]
  },
  {
   "cell_type": "code",
   "execution_count": null,
   "metadata": {},
   "outputs": [],
   "source": [
    "mapper"
   ]
  },
  {
   "cell_type": "code",
   "execution_count": null,
   "metadata": {},
   "outputs": [],
   "source": [
    "cShiftFreq"
   ]
  },
  {
   "cell_type": "code",
   "execution_count": null,
   "metadata": {},
   "outputs": [],
   "source": [
    "guesses = [\n",
    "[('Z', 'H'), ('Q', 'Y'), ('X', 'R'), ('J', 'F'), ('K', 'S'), ('V', 'D'), ('B', 'J'), ('P', 'O'), ('Y', 'E'), ('G', 'G'), ('F', 'X'), ('W', 'U'), ('M', 'N'), ('U', 'C'), ('C', 'K'), ('L', 'L'), ('D', 'T'), ('R', 'P'), ('H', 'Z'), ('S', 'A'), ('N', 'V'), ('I', 'I'), ('O', 'Q'), ('A', 'W'), ('T', 'B'), ('E', 'M')],\n",
    "[('Z', 'N'), ('Q', 'E'), ('X', 'X'), ('J', 'L'), ('K', 'Y'), ('V', 'J'), ('B', 'P'), ('P', 'U'), ('Y', 'K'), ('G', 'M'), ('F', 'D'), ('W', 'A'), ('M', 'T'), ('U', 'I'), ('C', 'Q'), ('L', 'R'), ('D', 'Z'), ('R', 'V'), ('H', 'F'), ('S', 'G'), ('N', 'B'), ('I', 'O'), ('O', 'W'), ('A', 'C'), ('T', 'H'), ('E', 'S')],\n",
    "[('Z', 'U'), ('Q', 'L'), ('X', 'E'), ('J', 'S'), ('K', 'F'), ('V', 'Q'), ('B', 'B'), ('P', 'W'), ('Y', 'R'), ('G', 'T'), ('F', 'K'), ('W', 'H'), ('M', 'A'), ('U', 'P'), ('C', 'X'), ('L', 'Y'), ('D', 'G'), ('R', 'C'), ('H', 'M'), ('S', 'N'), ('N', 'I'), ('I', 'V'), ('O', 'D'), ('A', 'J'), ('T', 'O'), ('E', 'Z')],\n",
    "[('Z', 'M'), ('Q', 'D'), ('X', 'W'), ('J', 'K'), ('K', 'X'), ('V', 'I'), ('B', 'O'), ('P', 'T'), ('Y', 'J'), ('G', 'L'), ('F', 'C'), ('W', 'S'), ('M', 'Z'), ('U', 'H'), ('C', 'P'), ('L', 'Q'), ('D', 'Y'), ('R', 'U'), ('H', 'E'), ('S', 'F'), ('N', 'A'), ('I', 'N'), ('O', 'V'), ('A', 'B'), ('T', 'G'), ('E', 'R')],\n",
    "[('Z', 'J'), ('Q', 'A'), ('X', 'T'), ('J', 'H'), ('K', 'U'), ('V', 'F'), ('B', 'L'), ('P', 'Q'), ('Y', 'G'), ('G', 'I'), ('F', 'Z'), ('W', 'W'), ('M', 'P'), ('U', 'E'), ('C', 'M'), ('L', 'N'), ('D', 'V'), ('R', 'R'), ('H', 'B'), ('S', 'C'), ('N', 'X'), ('I', 'K'), ('O', 'S'), ('A', 'Y'), ('T', 'D'), ('E', 'O')], \n",
    "[('Z', 'W'), ('Q', 'N'), ('X', 'G'), ('J', 'U'), ('K', 'H'), ('V', 'S'), ('B', 'Y'), ('P', 'D'), ('Y', 'T'), ('G', 'V'), ('F', 'M'), ('W', 'J'), ('M', 'C'), ('U', 'R'), ('C', 'Z'), ('L', 'A'), ('D', 'I'), ('R', 'E'), ('H', 'O'), ('S', 'P'), ('N', 'K'), ('I', 'X'), ('O', 'F'), ('A', 'L'), ('T', 'Q'), ('E', 'B')]\n",
    "]"
   ]
  },
  {
   "cell_type": "code",
   "execution_count": null,
   "metadata": {},
   "outputs": [],
   "source": [
    "for guess in guesses:\n",
    "    print mld(guess)"
   ]
  },
  {
   "cell_type": "code",
   "execution_count": null,
   "metadata": {},
   "outputs": [],
   "source": [
    "def mld(mapper):\n",
    "    return mean([(ord(pair[0]) - ord(pair[1])) % 26 for pair in mapper]) "
   ]
  },
  {
   "cell_type": "code",
   "execution_count": null,
   "metadata": {},
   "outputs": [],
   "source": [
    "mld(x)"
   ]
  },
  {
   "cell_type": "code",
   "execution_count": null,
   "metadata": {},
   "outputs": [],
   "source": [
    "for i in \"CIPHER\": print ord(i) - ord('A')"
   ]
  },
  {
   "cell_type": "code",
   "execution_count": null,
   "metadata": {},
   "outputs": [],
   "source": [
    "-4 % 26"
   ]
  },
  {
   "cell_type": "code",
   "execution_count": null,
   "metadata": {},
   "outputs": [],
   "source": []
  }
 ],
 "metadata": {
  "kernelspec": {
   "display_name": "Python 2",
   "language": "python",
   "name": "python2"
  },
  "language_info": {
   "codemirror_mode": {
    "name": "ipython",
    "version": 2
   },
   "file_extension": ".py",
   "mimetype": "text/x-python",
   "name": "python",
   "nbconvert_exporter": "python",
   "pygments_lexer": "ipython2",
   "version": "2.7.12"
  }
 },
 "nbformat": 4,
 "nbformat_minor": 2
}

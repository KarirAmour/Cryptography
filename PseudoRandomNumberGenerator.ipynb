{
 "cells": [
  {
   "cell_type": "code",
   "execution_count": null,
   "metadata": {},
   "outputs": [],
   "source": []
  },
  {
   "cell_type": "code",
   "execution_count": null,
   "metadata": {},
   "outputs": [],
   "source": []
  },
  {
   "cell_type": "code",
   "execution_count": null,
   "metadata": {},
   "outputs": [],
   "source": []
  },
  {
   "cell_type": "markdown",
   "metadata": {},
   "source": [
    "### RC4 - Ron Rivest"
   ]
  },
  {
   "cell_type": "code",
   "execution_count": 1,
   "metadata": {},
   "outputs": [],
   "source": [
    "# Note, RC4 drop[n] is a preferred algorithm to RC4. It drops the first n digits\n",
    "#   in order to reduce any generation biases.\n",
    "\n",
    "\n",
    "SIZE = 256\n",
    "def RC4KeyScheduleAlgorithm(secret_key):\n",
    "    schedule = range(SIZE)\n",
    "    key_mod = [i % len(secret_key) for i in range(SIZE)]\n",
    "    j = 0\n",
    "    for i in range(SIZE):\n",
    "        j = (key_mod[i] + schedule[i] + j) % SIZE\n",
    "        schedule[i], schedule[j] = schedule[j], schedule[i] # Swap values\n",
    "        \n",
    "    return schedule\n",
    "\n",
    "def RC4KeyStreamGenerator(schedule): # PRNG\n",
    "    i = 0\n",
    "    j = 0\n",
    "    keystream = range(len(schedule))\n",
    "    for idx in range(len(schedule)):\n",
    "        i = (i + 1) % SIZE\n",
    "        j = (schedule[i] + j) % SIZE\n",
    "        schedule[i], schedule[j] = schedule[j], schedule[i] # Swap values\n",
    "        keystream[idx] = (schedule[i] + schedule[j]) % SIZE\n",
    "        \n",
    "    return keystream\n",
    "        \n",
    "    \n",
    "    "
   ]
  },
  {
   "cell_type": "code",
   "execution_count": null,
   "metadata": {},
   "outputs": [],
   "source": []
  }
 ],
 "metadata": {
  "kernelspec": {
   "display_name": "Python 2",
   "language": "python",
   "name": "python2"
  },
  "language_info": {
   "codemirror_mode": {
    "name": "ipython",
    "version": 2
   },
   "file_extension": ".py",
   "mimetype": "text/x-python",
   "name": "python",
   "nbconvert_exporter": "python",
   "pygments_lexer": "ipython2",
   "version": "2.7.12"
  }
 },
 "nbformat": 4,
 "nbformat_minor": 2
}
